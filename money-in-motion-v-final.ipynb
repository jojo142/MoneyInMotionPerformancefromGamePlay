{
 "cells": [
  {
   "cell_type": "code",
   "execution_count": 1,
   "id": "beb92b19",
   "metadata": {
    "execution": {
     "iopub.execute_input": "2023-05-10T10:17:12.438551Z",
     "iopub.status.busy": "2023-05-10T10:17:12.438034Z",
     "iopub.status.idle": "2023-05-10T10:17:12.449590Z",
     "shell.execute_reply": "2023-05-10T10:17:12.448614Z"
    },
    "papermill": {
     "duration": 0.023491,
     "end_time": "2023-05-10T10:17:12.452216",
     "exception": false,
     "start_time": "2023-05-10T10:17:12.428725",
     "status": "completed"
    },
    "tags": []
   },
   "outputs": [],
   "source": [
    "import numpy as np, gc\n",
    "import pandas as pd"
   ]
  },
  {
   "cell_type": "code",
   "execution_count": 2,
   "id": "8124e2dd",
   "metadata": {
    "execution": {
     "iopub.execute_input": "2023-05-10T10:17:12.464638Z",
     "iopub.status.busy": "2023-05-10T10:17:12.464221Z",
     "iopub.status.idle": "2023-05-10T10:17:12.481606Z",
     "shell.execute_reply": "2023-05-10T10:17:12.480660Z"
    },
    "papermill": {
     "duration": 0.026691,
     "end_time": "2023-05-10T10:17:12.484374",
     "exception": false,
     "start_time": "2023-05-10T10:17:12.457683",
     "status": "completed"
    },
    "tags": []
   },
   "outputs": [
    {
     "name": "stdout",
     "output_type": "stream",
     "text": [
      "/kaggle/input/student-performance-and-game-play/sample_submission.csv\n",
      "/kaggle/input/student-performance-and-game-play/train_labels.csv\n",
      "/kaggle/input/student-performance-and-game-play/train.csv\n",
      "/kaggle/input/student-performance-and-game-play/test.csv\n",
      "/kaggle/input/student-performance-and-game-play/jo_wilder/competition.cpython-37m-x86_64-linux-gnu.so\n",
      "/kaggle/input/student-performance-and-game-play/jo_wilder/__init__.py\n"
     ]
    }
   ],
   "source": [
    "# This Python 3 environment comes with many helpful analytics libraries installed\n",
    "# It is defined by the kaggle/python Docker image: https://github.com/kaggle/docker-python\n",
    "# For example, here's several helpful packages to load\n",
    "\n",
    "import numpy as np # linear algebra\n",
    "import pandas as pd # data processing, CSV file I/O (e.g. pd.read_csv)\n",
    "\n",
    "# Input data files are available in the read-only \"../input/\" directory\n",
    "# For example, running this (by clicking run or pressing Shift+Enter) will list all files under the input directory\n",
    "\n",
    "import os\n",
    "for dirname, _, filenames in os.walk('/kaggle/input'):\n",
    "    for filename in filenames:\n",
    "        print(os.path.join(dirname, filename))"
   ]
  },
  {
   "cell_type": "code",
   "execution_count": 3,
   "id": "6800953b",
   "metadata": {
    "execution": {
     "iopub.execute_input": "2023-05-10T10:17:12.497516Z",
     "iopub.status.busy": "2023-05-10T10:17:12.496632Z",
     "iopub.status.idle": "2023-05-10T10:18:36.906567Z",
     "shell.execute_reply": "2023-05-10T10:18:36.905458Z"
    },
    "papermill": {
     "duration": 84.41996,
     "end_time": "2023-05-10T10:18:36.909643",
     "exception": false,
     "start_time": "2023-05-10T10:17:12.489683",
     "status": "completed"
    },
    "tags": []
   },
   "outputs": [],
   "source": [
    "tmp = pd.read_csv(\"/kaggle/input/student-performance-and-game-play/train.csv\",usecols=[0])\n",
    "tmp = tmp.groupby('session_id').session_id.agg('count')\n",
    "PIECES = 10\n",
    "CHUNK = int( np.ceil(len(tmp)/PIECES) )\n",
    "reads = []\n",
    "skips = [0]\n",
    "for k in range(PIECES):\n",
    "    a = k*CHUNK\n",
    "    b = (k+1)*CHUNK\n",
    "    if b>len(tmp): b=len(tmp)\n",
    "    r = tmp.iloc[a:b].sum()\n",
    "    reads.append(r)\n",
    "    skips.append(skips[-1]+r)"
   ]
  },
  {
   "cell_type": "code",
   "execution_count": 4,
   "id": "0d318867",
   "metadata": {
    "execution": {
     "iopub.execute_input": "2023-05-10T10:18:36.922848Z",
     "iopub.status.busy": "2023-05-10T10:18:36.922191Z",
     "iopub.status.idle": "2023-05-10T10:18:47.581473Z",
     "shell.execute_reply": "2023-05-10T10:18:47.580385Z"
    },
    "papermill": {
     "duration": 10.669,
     "end_time": "2023-05-10T10:18:47.584234",
     "exception": false,
     "start_time": "2023-05-10T10:18:36.915234",
     "status": "completed"
    },
    "tags": []
   },
   "outputs": [],
   "source": [
    "train = pd.read_csv(\"/kaggle/input/student-performance-and-game-play/train.csv\", nrows=reads[0])\n",
    "train_label = pd.read_csv(\"/kaggle/input/student-performance-and-game-play/train_labels.csv\")\n",
    "train_label['session'] = train_label.session_id.apply(lambda x: int(x.split('_')[0]) )\n",
    "train_label['q'] = train_label.session_id.apply(lambda x: int(x.split('_')[-1][1:]) )\n",
    "categorical_features = ['event_name', 'fqid', 'room_fqid', 'text']\n",
    "numerical_features = ['elapsed_time','level','page','room_coor_x', 'room_coor_y', \n",
    "        'screen_coor_x', 'screen_coor_y', 'hover_duration']\n",
    "events = ['navigate_click','person_click','cutscene_click','object_click',\n",
    "          'map_hover','notification_click','map_click','observation_click',\n",
    "          'checkpoint']"
   ]
  },
  {
   "cell_type": "code",
   "execution_count": 5,
   "id": "bdd14880",
   "metadata": {
    "execution": {
     "iopub.execute_input": "2023-05-10T10:18:47.597851Z",
     "iopub.status.busy": "2023-05-10T10:18:47.597158Z",
     "iopub.status.idle": "2023-05-10T10:18:47.609041Z",
     "shell.execute_reply": "2023-05-10T10:18:47.608060Z"
    },
    "papermill": {
     "duration": 0.021687,
     "end_time": "2023-05-10T10:18:47.611679",
     "exception": false,
     "start_time": "2023-05-10T10:18:47.589992",
     "status": "completed"
    },
    "tags": []
   },
   "outputs": [],
   "source": [
    "def feature_engineer(train):\n",
    "    dfs = []\n",
    "    for c in categorical_features:\n",
    "        tmp = train.groupby(['session_id','level_group'])[c].agg('nunique')\n",
    "        tmp.name = tmp.name + '_nunique'\n",
    "        dfs.append(tmp)\n",
    "    for c in numerical_features:\n",
    "        tmp = train.groupby(['session_id','level_group'])[c].agg('mean')\n",
    "        tmp.name = tmp.name + '_mean'\n",
    "        dfs.append(tmp)\n",
    "    for c in numerical_features:\n",
    "        tmp = train.groupby(['session_id','level_group'])[c].agg('std')\n",
    "        tmp.name = tmp.name + '_std'\n",
    "        dfs.append(tmp)\n",
    "    for c in events: \n",
    "        train[c] = (train.event_name == c).astype('int8')\n",
    "    for c in events + ['elapsed_time']:\n",
    "        tmp = train.groupby(['session_id','level_group'])[c].agg('sum')\n",
    "        tmp.name = tmp.name + '_sum'\n",
    "        dfs.append(tmp)\n",
    "    train = train.drop(events,axis=1)\n",
    "        \n",
    "    df = pd.concat(dfs,axis=1)\n",
    "    df = df.fillna(-1)\n",
    "    df = df.reset_index()\n",
    "    df = df.set_index('session_id')\n",
    "    return df\n"
   ]
  },
  {
   "cell_type": "code",
   "execution_count": 6,
   "id": "4b23be34",
   "metadata": {
    "execution": {
     "iopub.execute_input": "2023-05-10T10:18:47.625119Z",
     "iopub.status.busy": "2023-05-10T10:18:47.623986Z",
     "iopub.status.idle": "2023-05-10T10:26:47.299219Z",
     "shell.execute_reply": "2023-05-10T10:26:47.298269Z"
    },
    "papermill": {
     "duration": 479.695588,
     "end_time": "2023-05-10T10:26:47.312762",
     "exception": false,
     "start_time": "2023-05-10T10:18:47.617174",
     "status": "completed"
    },
    "tags": []
   },
   "outputs": [
    {
     "name": "stdout",
     "output_type": "stream",
     "text": [
      "CPU times: user 7min 8s, sys: 19 s, total: 7min 27s\n",
      "Wall time: 7min 59s\n"
     ]
    }
   ],
   "source": [
    "%%time\n",
    "all_pieces = []\n",
    "for k in range(PIECES):\n",
    "    SKIPS = 0\n",
    "    if k>0: SKIPS = range(1,skips[k]+1)\n",
    "    train = pd.read_csv('/kaggle/input/student-performance-and-game-play/train.csv',nrows=reads[k], skiprows=SKIPS)\n",
    "    df_tr = feature_engineer(train)\n",
    "    all_pieces.append(df_tr)\n",
    "\n",
    "del train; gc.collect()\n",
    "df_tr = pd.concat(all_pieces, axis=0)"
   ]
  },
  {
   "cell_type": "code",
   "execution_count": 7,
   "id": "15f354fa",
   "metadata": {
    "execution": {
     "iopub.execute_input": "2023-05-10T10:26:47.327128Z",
     "iopub.status.busy": "2023-05-10T10:26:47.326436Z",
     "iopub.status.idle": "2023-05-10T10:26:48.448404Z",
     "shell.execute_reply": "2023-05-10T10:26:48.446958Z"
    },
    "papermill": {
     "duration": 1.132189,
     "end_time": "2023-05-10T10:26:48.450870",
     "exception": false,
     "start_time": "2023-05-10T10:26:47.318681",
     "status": "completed"
    },
    "tags": []
   },
   "outputs": [
    {
     "name": "stdout",
     "output_type": "stream",
     "text": [
      "Train with 30 features and  23562 users info\n"
     ]
    }
   ],
   "source": [
    "from sklearn.model_selection import cross_val_score, train_test_split, KFold, GroupKFold\n",
    "from sklearn.metrics import f1_score\n",
    "\n",
    "# Define features \n",
    "FEATURES = [c for c in df_tr.columns if c != 'level_group']\n",
    "ALL_USERS = df_tr.index.unique()\n",
    "print('Train with', len(FEATURES) ,'features and ', len(ALL_USERS) ,'users info')"
   ]
  },
  {
   "cell_type": "code",
   "execution_count": 8,
   "id": "90296e57",
   "metadata": {
    "execution": {
     "iopub.execute_input": "2023-05-10T10:26:48.464351Z",
     "iopub.status.busy": "2023-05-10T10:26:48.463141Z",
     "iopub.status.idle": "2023-05-10T10:29:27.989474Z",
     "shell.execute_reply": "2023-05-10T10:29:27.988315Z"
    },
    "papermill": {
     "duration": 159.536182,
     "end_time": "2023-05-10T10:29:27.992613",
     "exception": false,
     "start_time": "2023-05-10T10:26:48.456431",
     "status": "completed"
    },
    "tags": []
   },
   "outputs": [],
   "source": [
    "from sklearn.model_selection import KFold, GroupKFold\n",
    "from xgboost import XGBClassifier\n",
    "from sklearn.metrics import f1_score\n",
    "gkf = GroupKFold(n_splits=5)\n",
    "oof = pd.DataFrame(data=np.zeros((len(ALL_USERS),18)), index=ALL_USERS)\n",
    "models = {}\n",
    "for i, (train_index, test_index) in enumerate(gkf.split(X=df_tr, groups=df_tr.index)):\n",
    "    xgb_params = {\n",
    "    'objective' : 'binary:logistic','eval_metric':'logloss','learning_rate': 0.05,'max_depth': 4,'n_estimators': 1000,'early_stopping_rounds': 50,'tree_method':'hist','subsample':0.8,'colsample_bytree': 0.4,'use_label_encoder' : False}\n",
    "    for t in range(1,19):\n",
    "        if t<=3: grp = '0-4'\n",
    "        elif t<=13: grp = '5-12'\n",
    "        elif t<=22: grp = '13-22'\n",
    "        train_x = df_tr.iloc[train_index]\n",
    "        train_x = train_x.loc[train_x.level_group == grp]\n",
    "        train_users = train_x.index.values\n",
    "        train_y = train_label.loc[train_label.q==t].set_index('session').loc[train_users]\n",
    "        valid_x = df_tr.iloc[test_index]\n",
    "        valid_x = valid_x.loc[valid_x.level_group == grp]\n",
    "        valid_users = valid_x.index.values\n",
    "        valid_y = train_label.loc[train_label.q==t].set_index('session').loc[valid_users]\n",
    "        clf =  XGBClassifier(**xgb_params)\n",
    "        clf.fit(train_x[FEATURES].astype('float32'), train_y['correct'],eval_set=[ (valid_x[FEATURES].astype('float32'), valid_y['correct']) ],verbose=0)\n",
    "        models[f'{grp}_{t}'] = clf\n",
    "        oof.loc[valid_users, t-1] = clf.predict_proba(valid_x[FEATURES].astype('float32'))[:,1]\n",
    "        \n"
   ]
  },
  {
   "cell_type": "code",
   "execution_count": 9,
   "id": "92bc6a9e",
   "metadata": {
    "execution": {
     "iopub.execute_input": "2023-05-10T10:29:28.006819Z",
     "iopub.status.busy": "2023-05-10T10:29:28.006350Z",
     "iopub.status.idle": "2023-05-10T10:29:36.299010Z",
     "shell.execute_reply": "2023-05-10T10:29:36.297598Z"
    },
    "papermill": {
     "duration": 8.303084,
     "end_time": "2023-05-10T10:29:36.301700",
     "exception": false,
     "start_time": "2023-05-10T10:29:27.998616",
     "status": "completed"
    },
    "tags": []
   },
   "outputs": [
    {
     "name": "stdout",
     "output_type": "stream",
     "text": [
      "0.40, 0.41, 0.42, 0.43, 0.44, 0.45, 0.46, 0.47, 0.48, 0.49, 0.50, 0.51, 0.52, 0.53, 0.54, 0.55, 0.56, 0.57, 0.58, 0.59, 0.60, 0.61, 0.62, 0.63, 0.64, 0.65, 0.66, 0.67, 0.68, 0.69, 0.70, 0.71, 0.72, 0.73, 0.74, 0.75, 0.76, 0.77, 0.78, 0.79, \n",
      "Overall F1 score is 0.7315582455030779\n"
     ]
    }
   ],
   "source": [
    "# true labels into dataframe\n",
    "true = oof.copy()\n",
    "k = 0\n",
    "\n",
    "while k < 18:\n",
    "    # GET TRUE LABELS\n",
    "    tmp = train_label.loc[train_label.q == k+1].set_index('session').loc[ALL_USERS]\n",
    "    true[k] = tmp.correct.values\n",
    "    k += 1\n",
    "\n",
    "#best threshold    \n",
    "threshold, step, listA, listB, bestS, bestT = 0.4, 0.01, [], [], 0, 0\n",
    "\n",
    "while threshold <= 0.8:\n",
    "    print(f'{threshold:.02f}, ', end='')\n",
    "    preds = (oof.values.reshape((-1)) > threshold).astype('int')\n",
    "    m = f1_score(true.values.reshape((-1)), preds, average='macro')\n",
    "    listA.append(m)\n",
    "    listB.append(threshold)\n",
    "    if m > bestS:\n",
    "        bestS = m\n",
    "        bestT = threshold\n",
    "    threshold += step\n",
    "    \n",
    "m = f1_score(true.values.reshape((-1)), (oof.values.reshape((-1)) > bestT).astype('int'), average='weighted')\n",
    "print('\\nOverall F1 score is', m)"
   ]
  },
  {
   "cell_type": "code",
   "execution_count": 10,
   "id": "119c24d7",
   "metadata": {
    "execution": {
     "iopub.execute_input": "2023-05-10T10:29:36.319184Z",
     "iopub.status.busy": "2023-05-10T10:29:36.318769Z",
     "iopub.status.idle": "2023-05-10T10:29:36.489936Z",
     "shell.execute_reply": "2023-05-10T10:29:36.488340Z"
    },
    "papermill": {
     "duration": 0.183542,
     "end_time": "2023-05-10T10:29:36.493293",
     "exception": false,
     "start_time": "2023-05-10T10:29:36.309751",
     "status": "completed"
    },
    "tags": []
   },
   "outputs": [],
   "source": [
    "import jo_wilder\n",
    "env = jo_wilder.make_env()\n",
    "iter_test = env.iter_test()\n",
    "\n",
    "\n",
    "import gc\n",
    "del train_label, df_tr, oof, true\n",
    "_ = gc.collect()"
   ]
  },
  {
   "cell_type": "code",
   "execution_count": 11,
   "id": "795c9700",
   "metadata": {
    "execution": {
     "iopub.execute_input": "2023-05-10T10:29:36.511342Z",
     "iopub.status.busy": "2023-05-10T10:29:36.510568Z",
     "iopub.status.idle": "2023-05-10T10:29:37.524530Z",
     "shell.execute_reply": "2023-05-10T10:29:37.523371Z"
    },
    "papermill": {
     "duration": 1.0256,
     "end_time": "2023-05-10T10:29:37.527262",
     "exception": false,
     "start_time": "2023-05-10T10:29:36.501662",
     "status": "completed"
    },
    "tags": []
   },
   "outputs": [
    {
     "name": "stdout",
     "output_type": "stream",
     "text": [
      "This version of the API is not optimized and should not be used to estimate the runtime of your code on the hidden test set.\n"
     ]
    }
   ],
   "source": [
    "limits = {'0-4':(1,4), '5-12':(4,14), '13-22':(14,19)}\n",
    "for (test, sample_submission) in iter_test:\n",
    "    df = feature_engineer(test)\n",
    "    grp = test.level_group.values[0]\n",
    "    a,b = limits[grp]\n",
    "    for t in range(a,b):\n",
    "        clf = models[f'{grp}_{t}']\n",
    "        p = clf.predict_proba(df[FEATURES].astype('float32'))[0,1]\n",
    "        mask = sample_submission.session_id.str.contains(f'q{t}')\n",
    "        sample_submission.loc[mask,'correct'] = int( p > bestT)    \n",
    "    env.predict(sample_submission)"
   ]
  },
  {
   "cell_type": "code",
   "execution_count": 12,
   "id": "6e0625fb",
   "metadata": {
    "execution": {
     "iopub.execute_input": "2023-05-10T10:29:37.545305Z",
     "iopub.status.busy": "2023-05-10T10:29:37.544851Z",
     "iopub.status.idle": "2023-05-10T10:29:38.657752Z",
     "shell.execute_reply": "2023-05-10T10:29:38.656368Z"
    },
    "papermill": {
     "duration": 1.125015,
     "end_time": "2023-05-10T10:29:38.660620",
     "exception": false,
     "start_time": "2023-05-10T10:29:37.535605",
     "status": "completed"
    },
    "tags": []
   },
   "outputs": [
    {
     "name": "stdout",
     "output_type": "stream",
     "text": [
      "session_id,correct\r\n",
      "20090109393214576_q1,1\r\n",
      "20090109393214576_q2,1\r\n",
      "20090109393214576_q3,1\r\n",
      "20090109393214576_q4,1\r\n",
      "20090109393214576_q5,0\r\n",
      "20090109393214576_q6,1\r\n",
      "20090109393214576_q7,1\r\n",
      "20090109393214576_q8,0\r\n",
      "20090109393214576_q9,1\r\n"
     ]
    }
   ],
   "source": [
    "## the end result is a submission file containing all test session predictions\n",
    "! head submission.csv"
   ]
  }
 ],
 "metadata": {
  "kernelspec": {
   "display_name": "Python 3",
   "language": "python",
   "name": "python3"
  },
  "language_info": {
   "codemirror_mode": {
    "name": "ipython",
    "version": 3
   },
   "file_extension": ".py",
   "mimetype": "text/x-python",
   "name": "python",
   "nbconvert_exporter": "python",
   "pygments_lexer": "ipython3",
   "version": "3.7.12"
  },
  "papermill": {
   "default_parameters": {},
   "duration": 759.352602,
   "end_time": "2023-05-10T10:29:39.596024",
   "environment_variables": {},
   "exception": null,
   "input_path": "__notebook__.ipynb",
   "output_path": "__notebook__.ipynb",
   "parameters": {},
   "start_time": "2023-05-10T10:17:00.243422",
   "version": "2.3.4"
  }
 },
 "nbformat": 4,
 "nbformat_minor": 5
}
